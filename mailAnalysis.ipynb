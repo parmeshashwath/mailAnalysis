{
 "cells": [
  {
   "cell_type": "markdown",
   "metadata": {},
   "source": [
    "Importing the exchangelib package to perform mail analysis"
   ]
  },
  {
   "cell_type": "code",
   "execution_count": 1,
   "metadata": {
    "collapsed": true
   },
   "outputs": [],
   "source": [
    "from exchangelib import Account, Credentials, Message, Mailbox, DELEGATE, Configuration,EWSTimeZone,EWSDateTime\n"
   ]
  },
  {
   "cell_type": "markdown",
   "metadata": {},
   "source": [
    "Connect to mail server by providing your credentials"
   ]
  },
  {
   "cell_type": "code",
   "execution_count": 2,
   "metadata": {
    "collapsed": true
   },
   "outputs": [],
   "source": [
    "cred = Credentials(username=user+'@company.com', password='password')\n",
    "conf = Configuration(server='outlook.office365.com', credentials=cred)"
   ]
  },
  {
   "cell_type": "code",
   "execution_count": 3,
   "metadata": {},
   "outputs": [],
   "source": [
    "account = Account(user+'@cisco.com', credentials=cred, config=conf, autodiscover=False, access_type=DELEGATE)"
   ]
  },
  {
   "cell_type": "markdown",
   "metadata": {},
   "source": [
    "Working on the required folder in your inbox"
   ]
  },
  {
   "cell_type": "code",
   "execution_count": 4,
   "metadata": {
    "collapsed": true
   },
   "outputs": [],
   "source": [
    "cerebro_folder = account.inbox / 'Folder Name'\n",
    "tz = EWSTimeZone.localzone()\n",
    "\n",
    "\n"
   ]
  },
  {
   "cell_type": "markdown",
   "metadata": {},
   "source": [
    "Provide the list of your developers , to exclude their mails from analysis"
   ]
  },
  {
   "cell_type": "code",
   "execution_count": 5,
   "metadata": {
    "collapsed": true
   },
   "outputs": [],
   "source": [
    "dev_team = ['Parmesh A. (parma)']\n"
   ]
  },
  {
   "cell_type": "markdown",
   "metadata": {},
   "source": [
    "Collect all your mails in the given timeframe"
   ]
  },
  {
   "cell_type": "code",
   "execution_count": 6,
   "metadata": {
    "collapsed": true
   },
   "outputs": [],
   "source": [
    "mails = cerebro_folder.filter(datetime_received__range=(tz.localize(EWSDateTime(2019, 9, 1)), tz.localize(EWSDateTime(2019, 9, 10)))).order_by('-datetime_received')\n"
   ]
  },
  {
   "cell_type": "markdown",
   "metadata": {},
   "source": [
    "Some Basic Analysis"
   ]
  },
  {
   "cell_type": "code",
   "execution_count": 8,
   "metadata": {},
   "outputs": [
    {
     "name": "stdout",
     "output_type": "stream",
     "text": [
      "Total Mails::  96\n",
      "Processing batch::  0\n",
      "unique_users:  34\n",
      "unique_mails:  95\n",
      "unique Issues:  24\n"
     ]
    }
   ],
   "source": [
    "print(\"Total Mails:: \",len(mails))\n",
    "\n",
    "unique_users = set()  ## To capture the list of users who have sent a mail to your mailer\n",
    "unique_mails = set()  ## To capture the mails\n",
    "unique_conversation_id = set() ## To capture the unique converation -- this will translate to the number of issues\n",
    "\n",
    "## Parsing 100 mails at a time to avoid the timeouts\n",
    "for _i in range(0,len(mails),100):\n",
    "    print(\"Processing batch:: \" , _i)\n",
    "    counter = 0\n",
    "    for item in mails[_i:_i+100]:\n",
    "#         counter += 1\n",
    "#         print(counter)\n",
    "        if item.sender.name not in dev_team:\n",
    "            \n",
    "            unique_users.add(item.sender.name)\n",
    "            unique_mails.add(item.id)\n",
    "            unique_conversation_id.add(item.conversation_id)\n",
    "        \n",
    "\n",
    "\n",
    "print(\"unique_users: \",len(unique_users))\n",
    "print(\"unique_mails: \",len(unique_mails))\n",
    "print(\"unique Issues: \",len(unique_conversation_id))\n"
   ]
  },
  {
   "cell_type": "code",
   "execution_count": null,
   "metadata": {
    "collapsed": true
   },
   "outputs": [],
   "source": []
  }
 ],
 "metadata": {
  "kernelspec": {
   "display_name": "Python 3",
   "language": "python",
   "name": "python3"
  },
  "language_info": {
   "codemirror_mode": {
    "name": "ipython",
    "version": 3
   },
   "file_extension": ".py",
   "mimetype": "text/x-python",
   "name": "python",
   "nbconvert_exporter": "python",
   "pygments_lexer": "ipython3",
   "version": "3.6.2"
  }
 },
 "nbformat": 4,
 "nbformat_minor": 2
}
